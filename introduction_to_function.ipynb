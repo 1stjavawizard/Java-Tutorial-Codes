{
  "nbformat": 4,
  "nbformat_minor": 0,
  "metadata": {
    "colab": {
      "provenance": [],
      "authorship_tag": "ABX9TyMtRc7ZlbDDOVNnk2ZuStZ9",
      "include_colab_link": true
    },
    "kernelspec": {
      "name": "python3",
      "display_name": "Python 3"
    },
    "language_info": {
      "name": "python"
    }
  },
  "cells": [
    {
      "cell_type": "markdown",
      "metadata": {
        "id": "view-in-github",
        "colab_type": "text"
      },
      "source": [
        "<a href=\"https://colab.research.google.com/github/1stjavawizard/Java-Tutorial-Codes/blob/master/introduction_to_function.ipynb\" target=\"_parent\"><img src=\"https://colab.research.google.com/assets/colab-badge.svg\" alt=\"Open In Colab\"/></a>"
      ]
    },
    {
      "cell_type": "code",
      "execution_count": 1,
      "metadata": {
        "colab": {
          "base_uri": "https://localhost:8080/"
        },
        "id": "Y7yREIbzKzPo",
        "outputId": "d0e6632c-2f09-4fc2-e9be-2dfbca18da3a"
      },
      "outputs": [
        {
          "output_type": "stream",
          "name": "stdout",
          "text": [
            "1\n",
            "2\n",
            "3\n",
            "4\n",
            "5\n",
            "6\n",
            "7\n",
            "8\n",
            "9\n"
          ]
        }
      ],
      "source": [
        "a = 1\n",
        "\n",
        "while a < 10:\n",
        "  print(a)\n",
        "  a = a +1"
      ]
    },
    {
      "cell_type": "code",
      "source": [
        "b = 1\n",
        "\n",
        "while True:\n",
        "  print(b)\n",
        "  b = b+1"
      ],
      "metadata": {
        "id": "bW14TPoOPbYZ"
      },
      "execution_count": null,
      "outputs": []
    },
    {
      "cell_type": "code",
      "source": [
        "for bb in range(1,10):\n",
        "  print(bb)\n",
        "  if(bb == 4):\n",
        "    break"
      ],
      "metadata": {
        "colab": {
          "base_uri": "https://localhost:8080/"
        },
        "id": "wQsY2Q8zQhQ6",
        "outputId": "624f9180-c512-41ad-f056-50fb44d37a54"
      },
      "execution_count": 2,
      "outputs": [
        {
          "output_type": "stream",
          "name": "stdout",
          "text": [
            "1\n",
            "2\n",
            "3\n",
            "4\n"
          ]
        }
      ]
    },
    {
      "cell_type": "code",
      "source": [
        "for bb in range(1,10):\n",
        "  print(bb)\n",
        "  break\n",
        "\n",
        ""
      ],
      "metadata": {
        "colab": {
          "base_uri": "https://localhost:8080/"
        },
        "id": "FgJEhNl6QzU5",
        "outputId": "425a9d5c-fceb-4f2e-a16c-2337d41668f4"
      },
      "execution_count": 3,
      "outputs": [
        {
          "output_type": "stream",
          "name": "stdout",
          "text": [
            "1\n"
          ]
        }
      ]
    },
    {
      "cell_type": "code",
      "source": [
        "for cc in range(1,6):\n",
        "  print(cc)\n",
        "  if cc % 2 == 0:\n",
        "    continue"
      ],
      "metadata": {
        "colab": {
          "base_uri": "https://localhost:8080/"
        },
        "id": "X7KyBhR5RGsp",
        "outputId": "1a691cfb-724d-42c9-95f8-cb53a87a1c71"
      },
      "execution_count": 7,
      "outputs": [
        {
          "output_type": "stream",
          "name": "stdout",
          "text": [
            "1\n",
            "2\n",
            "3\n",
            "4\n",
            "5\n"
          ]
        }
      ]
    },
    {
      "cell_type": "code",
      "source": [
        "for kk in range(1,11):\n",
        "  if(kk == 4):\n",
        "    continue\n",
        "  print(kk)"
      ],
      "metadata": {
        "colab": {
          "base_uri": "https://localhost:8080/"
        },
        "id": "oCGmJuDYVpPb",
        "outputId": "c6297006-771c-4e15-b291-28e492ae96ea"
      },
      "execution_count": 8,
      "outputs": [
        {
          "output_type": "stream",
          "name": "stdout",
          "text": [
            "1\n",
            "2\n",
            "3\n",
            "5\n",
            "6\n",
            "7\n",
            "8\n",
            "9\n",
            "10\n"
          ]
        }
      ]
    },
    {
      "cell_type": "code",
      "source": [
        "def anyname():\n",
        "  print(\"This is a function in python\")"
      ],
      "metadata": {
        "id": "m9fPM4wjWi86"
      },
      "execution_count": 9,
      "outputs": []
    },
    {
      "cell_type": "code",
      "source": [
        "anyname()"
      ],
      "metadata": {
        "colab": {
          "base_uri": "https://localhost:8080/"
        },
        "id": "h4cmQrQQXuZC",
        "outputId": "c74dbeb9-cd13-4468-94fd-516b72438379"
      },
      "execution_count": 14,
      "outputs": [
        {
          "output_type": "stream",
          "name": "stdout",
          "text": [
            "This is a function in python\n"
          ]
        }
      ]
    },
    {
      "cell_type": "code",
      "source": [
        "def eat(Howmany):\n",
        "  print(f\"You eat {Howmany} times\")\n",
        "\n",
        "eat(20)"
      ],
      "metadata": {
        "colab": {
          "base_uri": "https://localhost:8080/"
        },
        "id": "ZZ7C0qydX2-q",
        "outputId": "e0ae01a9-e471-44cb-db72-18f6b07f1ef0"
      },
      "execution_count": 15,
      "outputs": [
        {
          "output_type": "stream",
          "name": "stdout",
          "text": [
            "You eat 20 times\n"
          ]
        }
      ]
    },
    {
      "cell_type": "code",
      "source": [
        "def add(a,b):\n",
        "  sum = a+b\n",
        "  return sum\n",
        "add(20,40)"
      ],
      "metadata": {
        "colab": {
          "base_uri": "https://localhost:8080/"
        },
        "id": "sSqWkYqZY8jM",
        "outputId": "4188cc3b-2e9c-4e55-8abc-ed8f19e08c1d"
      },
      "execution_count": 16,
      "outputs": [
        {
          "output_type": "execute_result",
          "data": {
            "text/plain": [
              "60"
            ]
          },
          "metadata": {},
          "execution_count": 16
        }
      ]
    },
    {
      "cell_type": "code",
      "source": [
        "print(add(20,40) )"
      ],
      "metadata": {
        "colab": {
          "base_uri": "https://localhost:8080/"
        },
        "id": "7Mhzcl-9Z-IF",
        "outputId": "d05a03bd-c833-4007-cd69-dbad1e0cfc24"
      },
      "execution_count": 17,
      "outputs": [
        {
          "output_type": "stream",
          "name": "stdout",
          "text": [
            "60\n"
          ]
        }
      ]
    },
    {
      "cell_type": "code",
      "source": [
        "def quad(a,b,c):\n",
        "  x1 = (-1*b - (b*b - 4*a*c)**0.5) / (2*a)\n",
        "  x2 = (-1*b + (b*b - 4*a*c)**0.5) / (2*a)\n",
        "  return x1,x2"
      ],
      "metadata": {
        "id": "-j9BdPtOcCzM"
      },
      "execution_count": 27,
      "outputs": []
    },
    {
      "cell_type": "code",
      "source": [
        "quad(1,5,6)"
      ],
      "metadata": {
        "colab": {
          "base_uri": "https://localhost:8080/"
        },
        "id": "sRRp0hSccnYV",
        "outputId": "bc6b8111-c66c-4ab0-c909-1d895e2db9a3"
      },
      "execution_count": 28,
      "outputs": [
        {
          "output_type": "execute_result",
          "data": {
            "text/plain": [
              "(-3.0, -2.0)"
            ]
          },
          "metadata": {},
          "execution_count": 28
        }
      ]
    }
  ]
}