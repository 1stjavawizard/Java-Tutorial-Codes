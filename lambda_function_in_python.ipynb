{
  "nbformat": 4,
  "nbformat_minor": 0,
  "metadata": {
    "colab": {
      "provenance": [],
      "authorship_tag": "ABX9TyOf1xzdtRV9X+T/MYrWiRWi",
      "include_colab_link": true
    },
    "kernelspec": {
      "name": "python3",
      "display_name": "Python 3"
    },
    "language_info": {
      "name": "python"
    }
  },
  "cells": [
    {
      "cell_type": "markdown",
      "metadata": {
        "id": "view-in-github",
        "colab_type": "text"
      },
      "source": [
        "<a href=\"https://colab.research.google.com/github/1stjavawizard/Java-Tutorial-Codes/blob/master/lambda_function_in_python.ipynb\" target=\"_parent\"><img src=\"https://colab.research.google.com/assets/colab-badge.svg\" alt=\"Open In Colab\"/></a>"
      ]
    },
    {
      "cell_type": "markdown",
      "source": [
        "# This is working lambda function"
      ],
      "metadata": {
        "id": "t4obr5zEW9Kb"
      }
    },
    {
      "cell_type": "code",
      "source": [
        "\n",
        "checker = lambda y: y * 2"
      ],
      "metadata": {
        "id": "tQ6dxkahZMT1"
      },
      "execution_count": 2,
      "outputs": []
    },
    {
      "cell_type": "code",
      "source": [
        "checker(50)"
      ],
      "metadata": {
        "colab": {
          "base_uri": "https://localhost:8080/"
        },
        "id": "fwnINiGhfI0O",
        "outputId": "47d0aacd-99c2-4e5c-c73f-54613bea4e24"
      },
      "execution_count": 3,
      "outputs": [
        {
          "output_type": "execute_result",
          "data": {
            "text/plain": [
              "100"
            ]
          },
          "metadata": {},
          "execution_count": 3
        }
      ]
    },
    {
      "cell_type": "code",
      "source": [
        "age = [12,14,16,17,18]\n",
        "\n",
        "modf = list(map(lambda x: x +5,age))\n",
        "modf"
      ],
      "metadata": {
        "colab": {
          "base_uri": "https://localhost:8080/"
        },
        "id": "d2D0Pz87i1pA",
        "outputId": "e25fb2f1-3e9a-472e-bc32-7f3b84d866f5"
      },
      "execution_count": 7,
      "outputs": [
        {
          "output_type": "execute_result",
          "data": {
            "text/plain": [
              "[17, 19, 21, 22, 23]"
            ]
          },
          "metadata": {},
          "execution_count": 7
        }
      ]
    },
    {
      "cell_type": "code",
      "source": [
        "list(filter(lambda x: x < 16,age))"
      ],
      "metadata": {
        "colab": {
          "base_uri": "https://localhost:8080/"
        },
        "id": "2nOUv08_loQQ",
        "outputId": "302eb98a-ae63-4ccb-8a53-0fee9db2a1c4"
      },
      "execution_count": 10,
      "outputs": [
        {
          "output_type": "execute_result",
          "data": {
            "text/plain": [
              "[12, 14]"
            ]
          },
          "metadata": {},
          "execution_count": 10
        }
      ]
    },
    {
      "cell_type": "markdown",
      "source": [
        "# Assignment\n",
        "\n",
        "\n",
        "1.   CREATE ANY FIVE LAMBDA FUNCTION OF YOUR CHOICE\n",
        "2.   GIVEN THE LIST food = [\"rice\",\"beans\",\"meat\",\"akara\",\"fish\"] remove the one containing letter \"e\"\n",
        "\n"
      ],
      "metadata": {
        "id": "2GLRlMKbna9C"
      }
    }
  ]
}